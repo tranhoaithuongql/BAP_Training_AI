{
  "nbformat": 4,
  "nbformat_minor": 0,
  "metadata": {
    "colab": {
      "name": "anime_recommendation",
      "provenance": [],
      "toc_visible": true
    },
    "kernelspec": {
      "name": "python3",
      "display_name": "Python 3"
    },
    "language_info": {
      "name": "python"
    },
    "accelerator": "GPU"
  },
  "cells": [
    {
      "cell_type": "code",
      "metadata": {
        "id": "mhc1oiP4vY9e",
        "colab": {
          "base_uri": "https://localhost:8080/"
        },
        "outputId": "9120a495-2d56-43ce-b05d-218a9fa088a7"
      },
      "source": [
        "from google.colab import drive\n",
        "drive.mount('/content/gdrive')"
      ],
      "execution_count": null,
      "outputs": [
        {
          "output_type": "stream",
          "text": [
            "Mounted at /content/gdrive\n"
          ],
          "name": "stdout"
        }
      ]
    },
    {
      "cell_type": "code",
      "metadata": {
        "id": "NeKRWRBXJvYy",
        "colab": {
          "base_uri": "https://localhost:8080/"
        },
        "outputId": "c3fee95c-cbe9-4860-e241-f9fa5e77d195"
      },
      "source": [
        "!ls /content/gdrive/MyDrive/kaggle_bt\n",
        "\n"
      ],
      "execution_count": null,
      "outputs": [
        {
          "output_type": "stream",
          "text": [
            "anime.csv  ex1\trating.csv  recommendation\n"
          ],
          "name": "stdout"
        }
      ]
    },
    {
      "cell_type": "code",
      "metadata": {
        "id": "kbuIWxaw1rbC"
      },
      "source": [
        "import numpy as np\n",
        "import pandas as pd\n",
        "from collections import Counter\n",
        "from sklearn.model_selection import train_test_split\n",
        "from sklearn.metrics.pairwise import cosine_similarity\n",
        "from scipy import sparse\n",
        "\n"
      ],
      "execution_count": null,
      "outputs": []
    },
    {
      "cell_type": "code",
      "metadata": {
        "colab": {
          "base_uri": "https://localhost:8080/"
        },
        "id": "uCrihmai2lY4",
        "outputId": "9272ccbc-bfe4-4097-9464-9a92fea2b151"
      },
      "source": [
        "anime_ratings_df = pd.read_csv(\"/content/gdrive/MyDrive/kaggle_bt/rating.csv\")\n",
        "print(anime_ratings_df.shape)\n",
        "print(anime_ratings_df.head())"
      ],
      "execution_count": null,
      "outputs": [
        {
          "output_type": "stream",
          "text": [
            "(7813737, 3)\n",
            "   user_id  anime_id  rating\n",
            "0        1        20      -1\n",
            "1        1        24      -1\n",
            "2        1        79      -1\n",
            "3        1       226      -1\n",
            "4        1       241      -1\n"
          ],
          "name": "stdout"
        }
      ]
    },
    {
      "cell_type": "code",
      "metadata": {
        "id": "RTCcRU5Z3f7-"
      },
      "source": [
        "# ratings = ratings[ratings['rating'] != -1].reset_index()[['user_id','anime_id','rating']]\n",
        "# print(ratings.shape)\n",
        "# ratings.head()\n",
        "\n",
        "# ratings = ratings.loc[ratings.rating != -1].reset_index()[['user_id','anime_id','rating']]\n",
        "# print(ratings.shape)\n",
        "# ratings.head()"
      ],
      "execution_count": null,
      "outputs": []
    },
    {
      "cell_type": "code",
      "metadata": {
        "colab": {
          "base_uri": "https://localhost:8080/"
        },
        "id": "Ne73Lf2_4dbA",
        "outputId": "bec80ef8-c7ca-4d79-f467-d41366abe059"
      },
      "source": [
        "ratings = anime_ratings_df[anime_ratings_df.user_id <= 1000]\n",
        "print(ratings.shape)"
      ],
      "execution_count": null,
      "outputs": [
        {
          "output_type": "stream",
          "text": [
            "(96479, 3)\n"
          ],
          "name": "stdout"
        }
      ]
    },
    {
      "cell_type": "code",
      "metadata": {
        "colab": {
          "base_uri": "https://localhost:8080/"
        },
        "id": "se6vkb1U9jG2",
        "outputId": "3a8ead75-5362-4aa8-a077-35fcee5713fa"
      },
      "source": [
        "Counter(ratings.rating)\n",
        "# a = Counter(ratings.rating)\n",
        "# a\n",
        "# print({k: v for k, v in sorted(a.items(), key=lambda item: item[1])})\n"
      ],
      "execution_count": null,
      "outputs": [
        {
          "output_type": "execute_result",
          "data": {
            "text/plain": [
              "Counter({-1: 18570,\n",
              "         1: 226,\n",
              "         2: 295,\n",
              "         3: 532,\n",
              "         4: 1147,\n",
              "         5: 2912,\n",
              "         6: 6982,\n",
              "         7: 17027,\n",
              "         8: 20895,\n",
              "         9: 16715,\n",
              "         10: 11178})"
            ]
          },
          "metadata": {
            "tags": []
          },
          "execution_count": 61
        }
      ]
    },
    {
      "cell_type": "code",
      "metadata": {
        "id": "lV_19KlTCDVe"
      },
      "source": [
        "Counter(anime_ratings.groupby(['user_id']).count()['anime_id'])"
      ],
      "execution_count": null,
      "outputs": []
    },
    {
      "cell_type": "code",
      "metadata": {
        "colab": {
          "base_uri": "https://localhost:8080/"
        },
        "id": "TjIBs6N9-tyl",
        "outputId": "fa48494a-4ddd-41c0-9dc7-7e7a122b5549"
      },
      "source": [
        "np.mean(ratings.groupby(['user_id']).count()['anime_id'])"
      ],
      "execution_count": null,
      "outputs": [
        {
          "output_type": "execute_result",
          "data": {
            "text/plain": [
              "96.479"
            ]
          },
          "metadata": {
            "tags": []
          },
          "execution_count": 62
        }
      ]
    },
    {
      "cell_type": "code",
      "metadata": {
        "colab": {
          "base_uri": "https://localhost:8080/",
          "height": 402
        },
        "id": "dg2k2wY9KmSq",
        "outputId": "02c87ba0-3727-45ce-8dc5-ecf80d474a0c"
      },
      "source": [
        "rate_train, rate_test = train_test_split(ratings, test_size=0.2)\n",
        "\n",
        "#resetting indices to avoid indexing errors in the future\n",
        "rate_train = rate_train.reset_index()[['user_id', 'anime_id', 'rating']]\n",
        "rate_test = rate_test.reset_index()[['user_id', 'anime_id', 'rating']]\n",
        "\n",
        "rate_train\n"
      ],
      "execution_count": null,
      "outputs": [
        {
          "output_type": "execute_result",
          "data": {
            "text/html": [
              "<div>\n",
              "<style scoped>\n",
              "    .dataframe tbody tr th:only-of-type {\n",
              "        vertical-align: middle;\n",
              "    }\n",
              "\n",
              "    .dataframe tbody tr th {\n",
              "        vertical-align: top;\n",
              "    }\n",
              "\n",
              "    .dataframe thead th {\n",
              "        text-align: right;\n",
              "    }\n",
              "</style>\n",
              "<table border=\"1\" class=\"dataframe\">\n",
              "  <thead>\n",
              "    <tr style=\"text-align: right;\">\n",
              "      <th></th>\n",
              "      <th>user_id</th>\n",
              "      <th>anime_id</th>\n",
              "      <th>rating</th>\n",
              "    </tr>\n",
              "  </thead>\n",
              "  <tbody>\n",
              "    <tr>\n",
              "      <th>0</th>\n",
              "      <td>559</td>\n",
              "      <td>19769</td>\n",
              "      <td>3</td>\n",
              "    </tr>\n",
              "    <tr>\n",
              "      <th>1</th>\n",
              "      <td>768</td>\n",
              "      <td>22663</td>\n",
              "      <td>4</td>\n",
              "    </tr>\n",
              "    <tr>\n",
              "      <th>2</th>\n",
              "      <td>940</td>\n",
              "      <td>4081</td>\n",
              "      <td>-1</td>\n",
              "    </tr>\n",
              "    <tr>\n",
              "      <th>3</th>\n",
              "      <td>71</td>\n",
              "      <td>10049</td>\n",
              "      <td>9</td>\n",
              "    </tr>\n",
              "    <tr>\n",
              "      <th>4</th>\n",
              "      <td>228</td>\n",
              "      <td>10620</td>\n",
              "      <td>9</td>\n",
              "    </tr>\n",
              "    <tr>\n",
              "      <th>...</th>\n",
              "      <td>...</td>\n",
              "      <td>...</td>\n",
              "      <td>...</td>\n",
              "    </tr>\n",
              "    <tr>\n",
              "      <th>77178</th>\n",
              "      <td>804</td>\n",
              "      <td>21881</td>\n",
              "      <td>-1</td>\n",
              "    </tr>\n",
              "    <tr>\n",
              "      <th>77179</th>\n",
              "      <td>573</td>\n",
              "      <td>25013</td>\n",
              "      <td>8</td>\n",
              "    </tr>\n",
              "    <tr>\n",
              "      <th>77180</th>\n",
              "      <td>851</td>\n",
              "      <td>13587</td>\n",
              "      <td>8</td>\n",
              "    </tr>\n",
              "    <tr>\n",
              "      <th>77181</th>\n",
              "      <td>374</td>\n",
              "      <td>1535</td>\n",
              "      <td>-1</td>\n",
              "    </tr>\n",
              "    <tr>\n",
              "      <th>77182</th>\n",
              "      <td>611</td>\n",
              "      <td>31952</td>\n",
              "      <td>7</td>\n",
              "    </tr>\n",
              "  </tbody>\n",
              "</table>\n",
              "<p>77183 rows × 3 columns</p>\n",
              "</div>"
            ],
            "text/plain": [
              "       user_id  anime_id  rating\n",
              "0          559     19769       3\n",
              "1          768     22663       4\n",
              "2          940      4081      -1\n",
              "3           71     10049       9\n",
              "4          228     10620       9\n",
              "...        ...       ...     ...\n",
              "77178      804     21881      -1\n",
              "77179      573     25013       8\n",
              "77180      851     13587       8\n",
              "77181      374      1535      -1\n",
              "77182      611     31952       7\n",
              "\n",
              "[77183 rows x 3 columns]"
            ]
          },
          "metadata": {
            "tags": []
          },
          "execution_count": 63
        }
      ]
    },
    {
      "cell_type": "code",
      "metadata": {
        "id": "rdzQgOSXLaTs"
      },
      "source": [
        "# indices start from 0\n",
        "rate_train.iloc[:, :2] -= 1\n",
        "rate_test.iloc[:, :2] -= 1\n",
        "train_matrix = rate_train.to_numpy()\n",
        "test_matrix = rate_test.to_numpy()"
      ],
      "execution_count": null,
      "outputs": []
    },
    {
      "cell_type": "code",
      "metadata": {
        "colab": {
          "base_uri": "https://localhost:8080/"
        },
        "id": "7feKmS1kPcs4",
        "outputId": "8b3a9d64-c6bf-4ff5-f8e2-d1f9aa3663df"
      },
      "source": [
        "# len(rate_train), len(rate_test)"
      ],
      "execution_count": null,
      "outputs": [
        {
          "output_type": "execute_result",
          "data": {
            "text/plain": [
              "(77183, 19296)"
            ]
          },
          "metadata": {
            "tags": []
          },
          "execution_count": 71
        }
      ]
    },
    {
      "cell_type": "code",
      "metadata": {
        "id": "QJqfXjb8sW1g"
      },
      "source": [
        "class MF(object):\n",
        "    \"\"\"docstring for CF\"\"\"\n",
        "    def __init__(self, Y_data, K, lam = 0.01, Xinit = None, Winit = None, \n",
        "            learning_rate = 0.7, max_iter = 100):\n",
        "        \n",
        "        self.Y_raw_data = Y_data\n",
        "        self.K = K\n",
        "        # regularization parameter\n",
        "        self.lam = lam\n",
        "        # learning rate for gradient descent\n",
        "        self.learning_rate = learning_rate\n",
        "        # maximum number of iterations\n",
        "        self.max_iter = max_iter\n",
        "        # number of users, items, and ratings. Remember to add 1 since id starts from 0\n",
        "        self.n_users = int(np.max(Y_data[:, 0])) + 1 \n",
        "        self.n_items = int(np.max(Y_data[:, 1])) + 1\n",
        "        self.n_ratings = Y_data.shape[0]\n",
        "        \n",
        "        if Xinit is None: # new\n",
        "            self.X = np.random.randn(self.n_items, K)\n",
        "        else: # or from saved data\n",
        "            self.X = Xinit \n",
        "        \n",
        "        if Winit is None: \n",
        "            self.W = np.random.randn(K, self.n_users)\n",
        "        else: # from daved data\n",
        "            self.W = Winit\n",
        "            \n",
        "        # normalized data, update later in normalized_Y function\n",
        "        self.Y_data_n = self.Y_raw_data.copy()\n",
        "       \n",
        "\n",
        "    def normalize_Y(self):\n",
        "        # item bas\n",
        "        user_col = 1\n",
        "        item_col = 0 \n",
        "        n_objects = self.n_items\n",
        "\n",
        "        users = self.Y_raw_data[:, user_col] \n",
        "        self.mu = np.zeros(n_objects)\n",
        "\n",
        "        for n in range(n_objects):\n",
        "            # row indices of rating done by user n\n",
        "            # since indices need to be integers, we need to convert\n",
        "            ids = np.where(users == n)[0].astype(np.int32)\n",
        "            # indices of all ratings associated with user n\n",
        "            item_ids = self.Y_data_n[ids, item_col] \n",
        "            # and the corresponding ratings \n",
        "            ratings = self.Y_data_n[ids, 2]\n",
        "            # take mean\n",
        "            m = np.mean(ratings) \n",
        "            if np.isnan(m):\n",
        "                m = 0 # to avoid empty array and nan value\n",
        "            self.mu[n] = m\n",
        "            # normalize\n",
        "            self.Y_data_n[ids, 2] = ratings - self.mu[n]\n",
        "       \n",
        "\n",
        "    def loss(self):\n",
        "        L = 0 \n",
        "        for i in range(self.n_ratings):\n",
        "            # user, item, rating\n",
        "            n, m, rate = int(self.Y_data_n[i, 0]), int(self.Y_data_n[i, 1]), self.Y_data_n[i, 2]\n",
        "            L += 0.5*(rate - self.X[m, :].dot(self.W[:, n]))**2\n",
        "        \n",
        "        # take average\n",
        "        L /= self.n_ratings\n",
        "        # regularization, don't ever forget this \n",
        "        L += 0.5*self.lam*(np.linalg.norm(self.X, 'fro') + np.linalg.norm(self.W, 'fro'))\n",
        "        return L\n",
        "\n",
        "    def get_items_rated_by_user(self, user_id):\n",
        "            \"\"\"\n",
        "            get all items which are rated by user user_id, and the corresponding ratings\n",
        "            \"\"\"\n",
        "            ids = np.where(self.Y_data_n[:,0] == user_id)[0] \n",
        "            item_ids = self.Y_data_n[ids, 1].astype(np.int32) # indices need to be integers\n",
        "            ratings = self.Y_data_n[ids, 2]\n",
        "            return (item_ids, ratings)\n",
        "    def get_users_who_rate_item(self, item_id):\n",
        "          \"\"\"\n",
        "          get all users who rated item item_id and get the corresponding ratings\n",
        "          \"\"\"\n",
        "          ids = np.where(self.Y_data_n[:,1] == item_id)[0] \n",
        "          user_ids = self.Y_data_n[ids, 0].astype(np.int32)\n",
        "          ratings = self.Y_data_n[ids, 2]\n",
        "          return (user_ids, ratings)\n",
        "\n",
        "    def updateX(self):\n",
        "          for m in range(self.n_items):\n",
        "              user_ids, ratings = self.get_users_who_rate_item(m)\n",
        "              Wm = self.W[:, user_ids]\n",
        "              # gradient\n",
        "              grad_xm = -(ratings - self.X[m, :].dot(Wm)).dot(Wm.T)/self.n_ratings + \\\n",
        "                                                self.lam*self.X[m, :]\n",
        "              self.X[m, :] -= self.learning_rate*grad_xm.reshape((self.K,))\n",
        "    \n",
        "    def updateW(self):\n",
        "        for n in range(self.n_users):\n",
        "            item_ids, ratings = self.get_items_rated_by_user(n)\n",
        "            Xn = self.X[item_ids, :]\n",
        "            # gradient\n",
        "            grad_wn = -Xn.T.dot(ratings - Xn.dot(self.W[:, n]))/self.n_ratings + \\\n",
        "                        self.lam*self.W[:, n]\n",
        "            self.W[:, n] -= self.learning_rate*grad_wn.reshape((self.K,))\n",
        "    def fit(self):\n",
        "        self.normalize_Y()\n",
        "        for i in range(self.max_iter):\n",
        "            self.updateX()\n",
        "            self.updateW()\n",
        "            rmse_train = self.evaluate_RMSE(self.Y_raw_data)\n",
        "            print ('iteration =', i + 1, ', loss =', self.loss(), ', RMSE train =', rmse_train)\n",
        "\n",
        "    def pred(self, u, i):\n",
        "        \"\"\" \n",
        "        predict the rating of user u for item i \n",
        "        if you need the un\n",
        "        \"\"\"\n",
        "        u = int(u)\n",
        "        i = int(i)\n",
        "        pred = self.X[i, :].dot(self.W[:, u]) + self.mu[i]\n",
        "        # truncate if results are out of range [0, 10]\n",
        "        if pred < 0:\n",
        "            return 0 \n",
        "        if pred > 10: \n",
        "            return 10 \n",
        "        return pred \n",
        "        \n",
        "    \n",
        "    def pred_for_user(self, user_id):\n",
        "        \"\"\"\n",
        "        predict ratings one user give all unrated items\n",
        "        \"\"\"\n",
        "        ids = np.where(self.Y_data_n[:, 0] == user_id)[0]\n",
        "        items_rated_by_u = self.Y_data_n[ids, 1].tolist()              \n",
        "        \n",
        "        y_pred = self.X.dot(self.W[:, user_id]) + self.mu[user_id]\n",
        "        predicted_ratings= []\n",
        "        for i in range(self.n_items):\n",
        "            if i not in items_rated_by_u:\n",
        "                predicted_ratings.append((i, y_pred[i]))\n",
        "        \n",
        "        return predicted_ratings\n",
        "\n",
        "    def evaluate_RMSE(self, rate_test):\n",
        "        n_tests = rate_test.shape[0]\n",
        "        SE = 0 # squared error\n",
        "        for n in range(n_tests):\n",
        "            pred = self.pred(rate_test[n, 0], rate_test[n, 1])\n",
        "            SE += (pred - rate_test[n, 2])**2 \n",
        "\n",
        "        RMSE = np.sqrt(SE/n_tests)\n",
        "        return RMSE\n",
        "\n"
      ],
      "execution_count": null,
      "outputs": []
    },
    {
      "cell_type": "code",
      "metadata": {
        "colab": {
          "base_uri": "https://localhost:8080/",
          "height": 488
        },
        "id": "mTfYsRibKgOO",
        "outputId": "74229f5c-e0e5-4339-878d-c9d152b984ce"
      },
      "source": [
        "result = MF(train_matrix, K = 10)\n",
        "\n",
        "result.fit()\n",
        "# evaluate on test data\n",
        "RMSE = result.evaluate_RMSE(test_matrix)\n",
        "print ('\\nItem-based MF, RMSE =', RMSE)"
      ],
      "execution_count": null,
      "outputs": [
        {
          "output_type": "stream",
          "text": [
            "/usr/local/lib/python3.7/dist-packages/numpy/core/fromnumeric.py:3373: RuntimeWarning: Mean of empty slice.\n",
            "  out=out, **kwargs)\n",
            "/usr/local/lib/python3.7/dist-packages/numpy/core/_methods.py:170: RuntimeWarning: invalid value encountered in double_scalars\n",
            "  ret = ret.dtype.type(ret / rcount)\n"
          ],
          "name": "stderr"
        },
        {
          "output_type": "stream",
          "text": [
            "iteration = 1 , loss = 13.568274889998458 , RMSE train = 4.424379502365383\n",
            "iteration = 2 , loss = 13.540143957239446 , RMSE train = 4.421757988160191\n",
            "iteration = 3 , loss = 13.512146287525926 , RMSE train = 4.419138692671638\n"
          ],
          "name": "stdout"
        },
        {
          "output_type": "error",
          "ename": "KeyboardInterrupt",
          "evalue": "ignored",
          "traceback": [
            "\u001b[0;31m---------------------------------------------------------------------------\u001b[0m",
            "\u001b[0;31mKeyboardInterrupt\u001b[0m                         Traceback (most recent call last)",
            "\u001b[0;32m<ipython-input-99-9080bba73069>\u001b[0m in \u001b[0;36m<module>\u001b[0;34m()\u001b[0m\n\u001b[1;32m      1\u001b[0m \u001b[0mresult\u001b[0m \u001b[0;34m=\u001b[0m \u001b[0mMF\u001b[0m\u001b[0;34m(\u001b[0m\u001b[0mtrain_matrix\u001b[0m\u001b[0;34m,\u001b[0m \u001b[0mK\u001b[0m \u001b[0;34m=\u001b[0m \u001b[0;36m10\u001b[0m\u001b[0;34m)\u001b[0m\u001b[0;34m\u001b[0m\u001b[0;34m\u001b[0m\u001b[0m\n\u001b[1;32m      2\u001b[0m \u001b[0;34m\u001b[0m\u001b[0m\n\u001b[0;32m----> 3\u001b[0;31m \u001b[0mresult\u001b[0m\u001b[0;34m.\u001b[0m\u001b[0mfit\u001b[0m\u001b[0;34m(\u001b[0m\u001b[0;34m)\u001b[0m\u001b[0;34m\u001b[0m\u001b[0;34m\u001b[0m\u001b[0m\n\u001b[0m\u001b[1;32m      4\u001b[0m \u001b[0;31m# evaluate on test data\u001b[0m\u001b[0;34m\u001b[0m\u001b[0;34m\u001b[0m\u001b[0;34m\u001b[0m\u001b[0m\n\u001b[1;32m      5\u001b[0m \u001b[0mRMSE\u001b[0m \u001b[0;34m=\u001b[0m \u001b[0mresult\u001b[0m\u001b[0;34m.\u001b[0m\u001b[0mevaluate_RMSE\u001b[0m\u001b[0;34m(\u001b[0m\u001b[0mtest_matrix\u001b[0m\u001b[0;34m)\u001b[0m\u001b[0;34m\u001b[0m\u001b[0;34m\u001b[0m\u001b[0m\n",
            "\u001b[0;32m<ipython-input-98-255a7822fe9e>\u001b[0m in \u001b[0;36mfit\u001b[0;34m(self)\u001b[0m\n\u001b[1;32m    105\u001b[0m         \u001b[0mself\u001b[0m\u001b[0;34m.\u001b[0m\u001b[0mnormalize_Y\u001b[0m\u001b[0;34m(\u001b[0m\u001b[0;34m)\u001b[0m\u001b[0;34m\u001b[0m\u001b[0;34m\u001b[0m\u001b[0m\n\u001b[1;32m    106\u001b[0m         \u001b[0;32mfor\u001b[0m \u001b[0mi\u001b[0m \u001b[0;32min\u001b[0m \u001b[0mrange\u001b[0m\u001b[0;34m(\u001b[0m\u001b[0mself\u001b[0m\u001b[0;34m.\u001b[0m\u001b[0mmax_iter\u001b[0m\u001b[0;34m)\u001b[0m\u001b[0;34m:\u001b[0m\u001b[0;34m\u001b[0m\u001b[0;34m\u001b[0m\u001b[0m\n\u001b[0;32m--> 107\u001b[0;31m             \u001b[0mself\u001b[0m\u001b[0;34m.\u001b[0m\u001b[0mupdateX\u001b[0m\u001b[0;34m(\u001b[0m\u001b[0;34m)\u001b[0m\u001b[0;34m\u001b[0m\u001b[0;34m\u001b[0m\u001b[0m\n\u001b[0m\u001b[1;32m    108\u001b[0m             \u001b[0mself\u001b[0m\u001b[0;34m.\u001b[0m\u001b[0mupdateW\u001b[0m\u001b[0;34m(\u001b[0m\u001b[0;34m)\u001b[0m\u001b[0;34m\u001b[0m\u001b[0;34m\u001b[0m\u001b[0m\n\u001b[1;32m    109\u001b[0m             \u001b[0mrmse_train\u001b[0m \u001b[0;34m=\u001b[0m \u001b[0mself\u001b[0m\u001b[0;34m.\u001b[0m\u001b[0mevaluate_RMSE\u001b[0m\u001b[0;34m(\u001b[0m\u001b[0mself\u001b[0m\u001b[0;34m.\u001b[0m\u001b[0mY_raw_data\u001b[0m\u001b[0;34m)\u001b[0m\u001b[0;34m\u001b[0m\u001b[0;34m\u001b[0m\u001b[0m\n",
            "\u001b[0;32m<ipython-input-98-255a7822fe9e>\u001b[0m in \u001b[0;36mupdateX\u001b[0;34m(self)\u001b[0m\n\u001b[1;32m     89\u001b[0m     \u001b[0;32mdef\u001b[0m \u001b[0mupdateX\u001b[0m\u001b[0;34m(\u001b[0m\u001b[0mself\u001b[0m\u001b[0;34m)\u001b[0m\u001b[0;34m:\u001b[0m\u001b[0;34m\u001b[0m\u001b[0;34m\u001b[0m\u001b[0m\n\u001b[1;32m     90\u001b[0m           \u001b[0;32mfor\u001b[0m \u001b[0mm\u001b[0m \u001b[0;32min\u001b[0m \u001b[0mrange\u001b[0m\u001b[0;34m(\u001b[0m\u001b[0mself\u001b[0m\u001b[0;34m.\u001b[0m\u001b[0mn_items\u001b[0m\u001b[0;34m)\u001b[0m\u001b[0;34m:\u001b[0m\u001b[0;34m\u001b[0m\u001b[0;34m\u001b[0m\u001b[0m\n\u001b[0;32m---> 91\u001b[0;31m               \u001b[0muser_ids\u001b[0m\u001b[0;34m,\u001b[0m \u001b[0mratings\u001b[0m \u001b[0;34m=\u001b[0m \u001b[0mself\u001b[0m\u001b[0;34m.\u001b[0m\u001b[0mget_users_who_rate_item\u001b[0m\u001b[0;34m(\u001b[0m\u001b[0mm\u001b[0m\u001b[0;34m)\u001b[0m\u001b[0;34m\u001b[0m\u001b[0;34m\u001b[0m\u001b[0m\n\u001b[0m\u001b[1;32m     92\u001b[0m               \u001b[0mWm\u001b[0m \u001b[0;34m=\u001b[0m \u001b[0mself\u001b[0m\u001b[0;34m.\u001b[0m\u001b[0mW\u001b[0m\u001b[0;34m[\u001b[0m\u001b[0;34m:\u001b[0m\u001b[0;34m,\u001b[0m \u001b[0muser_ids\u001b[0m\u001b[0;34m]\u001b[0m\u001b[0;34m\u001b[0m\u001b[0;34m\u001b[0m\u001b[0m\n\u001b[1;32m     93\u001b[0m               \u001b[0;31m# gradient\u001b[0m\u001b[0;34m\u001b[0m\u001b[0;34m\u001b[0m\u001b[0;34m\u001b[0m\u001b[0m\n",
            "\u001b[0;32m<ipython-input-98-255a7822fe9e>\u001b[0m in \u001b[0;36mget_users_who_rate_item\u001b[0;34m(self, item_id)\u001b[0m\n\u001b[1;32m     82\u001b[0m           \u001b[0mget\u001b[0m \u001b[0mall\u001b[0m \u001b[0musers\u001b[0m \u001b[0mwho\u001b[0m \u001b[0mrated\u001b[0m \u001b[0mitem\u001b[0m \u001b[0mitem_id\u001b[0m \u001b[0;32mand\u001b[0m \u001b[0mget\u001b[0m \u001b[0mthe\u001b[0m \u001b[0mcorresponding\u001b[0m \u001b[0mratings\u001b[0m\u001b[0;34m\u001b[0m\u001b[0;34m\u001b[0m\u001b[0m\n\u001b[1;32m     83\u001b[0m           \"\"\"\n\u001b[0;32m---> 84\u001b[0;31m           \u001b[0mids\u001b[0m \u001b[0;34m=\u001b[0m \u001b[0mnp\u001b[0m\u001b[0;34m.\u001b[0m\u001b[0mwhere\u001b[0m\u001b[0;34m(\u001b[0m\u001b[0mself\u001b[0m\u001b[0;34m.\u001b[0m\u001b[0mY_data_n\u001b[0m\u001b[0;34m[\u001b[0m\u001b[0;34m:\u001b[0m\u001b[0;34m,\u001b[0m\u001b[0;36m1\u001b[0m\u001b[0;34m]\u001b[0m \u001b[0;34m==\u001b[0m \u001b[0mitem_id\u001b[0m\u001b[0;34m)\u001b[0m\u001b[0;34m[\u001b[0m\u001b[0;36m0\u001b[0m\u001b[0;34m]\u001b[0m\u001b[0;34m\u001b[0m\u001b[0;34m\u001b[0m\u001b[0m\n\u001b[0m\u001b[1;32m     85\u001b[0m           \u001b[0muser_ids\u001b[0m \u001b[0;34m=\u001b[0m \u001b[0mself\u001b[0m\u001b[0;34m.\u001b[0m\u001b[0mY_data_n\u001b[0m\u001b[0;34m[\u001b[0m\u001b[0mids\u001b[0m\u001b[0;34m,\u001b[0m \u001b[0;36m0\u001b[0m\u001b[0;34m]\u001b[0m\u001b[0;34m.\u001b[0m\u001b[0mastype\u001b[0m\u001b[0;34m(\u001b[0m\u001b[0mnp\u001b[0m\u001b[0;34m.\u001b[0m\u001b[0mint32\u001b[0m\u001b[0;34m)\u001b[0m\u001b[0;34m\u001b[0m\u001b[0;34m\u001b[0m\u001b[0m\n\u001b[1;32m     86\u001b[0m           \u001b[0mratings\u001b[0m \u001b[0;34m=\u001b[0m \u001b[0mself\u001b[0m\u001b[0;34m.\u001b[0m\u001b[0mY_data_n\u001b[0m\u001b[0;34m[\u001b[0m\u001b[0mids\u001b[0m\u001b[0;34m,\u001b[0m \u001b[0;36m2\u001b[0m\u001b[0;34m]\u001b[0m\u001b[0;34m\u001b[0m\u001b[0;34m\u001b[0m\u001b[0m\n",
            "\u001b[0;31mKeyboardInterrupt\u001b[0m: "
          ]
        }
      ]
    }
  ]
}